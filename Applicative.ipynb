{
 "metadata": {
  "language": "haskell",
  "name": "",
  "signature": "sha256:b635e734e3ba69f10eb009a57a75cab78f10da8e95fb4c6e69771a742cae97aa"
 },
 "nbformat": 3,
 "nbformat_minor": 0,
 "worksheets": [
  {
   "cells": [
    {
     "cell_type": "markdown",
     "metadata": {
      "hidden": false
     },
     "source": [
      "University of Zagreb<br/>\n",
      "Faculty of Electrical Engineering and Computing\n",
      "\n",
      "Programming in Haskell\n",
      "\n",
      "http://www.fer.unizg.hr/predmet/puh\n",
      "\n",
      "Academic Year 2014/2015\n",
      "\n",
      "# Understanding Applicative\n",
      "\n",
      "&copy; 2014 Luka Skukan\n",
      "\n",
      "*Version 1.0*\n",
      "\n",
      "---\n",
      "\n",
      "We are now familiar with both `Functor` and, with some instances of `Monad`, most notably `IO`. However, `Applicative`, or *Applicative Functors*, are something in-between the two and something we have not (and will not) cover.\n",
      "\n",
      "Applicative functors have less constraints on them than monads, but more than functors. In some cases they are far more readable. However, they can seem quite arcane at first. We will try to explain them by comparing them to Functors and `do` notation.\n",
      "\n",
      "There are several operators we need to understand:\n",
      "* `pure`\n",
      "* `<$>`\n",
      "* `<*>`\n",
      "* `*>`\n",
      "* `<*`\n",
      "\n",
      "Let us go through them in order.\n",
      "\n",
      "## `pure`\n",
      "\n",
      "The `pure` action wraps an existing value and offers it it a \"pure\" context. It is basically the same thing as the `return` function for monads, only something doesn't have to be a `Monad` to implement `pure`. This is how `pure` is implemented for some common instances of `Applicative`:\n",
      "\n",
      "```haskell\n",
      "-- Maybe\n",
      "pure = Just\n",
      "\n",
      "-- []\n",
      "pure = (:[])\n",
      "\n",
      "-- Either\n",
      "pure = Right\n",
      "\n",
      "-- IO\n",
      "pure = return\n",
      "```\n",
      "\n",
      "As you can see, there is nothing especially exciting about `pure`. However, it is a crucial functions that allows us to \"lift\" our computations to the `Applicative` level.\n",
      "\n",
      "NB: For `Maybe` and `[]`, `pure` is actually implemented as `pure = return`. However, `return` is implemented as shown.\n",
      "\n",
      "## `<$>`\n",
      "\n",
      "The application function `<$>` is actually just another name for `fmap`. We can convince ourselves of that by looking at the types."
     ]
    },
    {
     "cell_type": "code",
     "collapsed": false,
     "input": [
      "import Control.Applicative (pure, (<$>), (<*>), (<*), (*>), (<$))\n",
      "\n",
      ":t fmap\n",
      ":t (<$>)"
     ],
     "language": "python",
     "metadata": {},
     "outputs": [
      {
       "html": [
        "<span class='get-type'>fmap :: forall (f :: * -> *) a b. Functor f => (a -> b) -> f a -> f b</span>"
       ],
       "metadata": {},
       "output_type": "display_data",
       "text": [
        "fmap :: forall (f :: * -> *) a b. Functor f => (a -> b) -> f a -> f b"
       ]
      },
      {
       "html": [
        "<span class='get-type'>(<$>) :: forall a b (f :: * -> *). Functor f => (a -> b) -> f a -> f b</span>"
       ],
       "metadata": {},
       "output_type": "display_data",
       "text": [
        "(<$>) :: forall a b (f :: * -> *). Functor f => (a -> b) -> f a -> f b"
       ]
      }
     ],
     "prompt_number": 2
    },
    {
     "cell_type": "markdown",
     "metadata": {
      "hidden": false
     },
     "source": [
      "Both of these apply some function over a wrapped object. Essentially, `<$>` unwraps the object, evaluates the function, then re-wraps the result. We can also express this using `do` notation (although this actually introduces more constraints on the object, but we will not go into this). Let us define our own mock-`<$>` called `<<$>>`."
     ]
    },
    {
     "cell_type": "code",
     "collapsed": false,
     "input": [
      "infixl 4 <<$>>\n",
      "\n",
      "f <<$>> a = do\n",
      "    x <- a\n",
      "    return $ f x\n",
      "\n",
      "abs <<$>> Just 3\n",
      "abs <<$>> Just (-3)\n",
      "abs <<$>> Nothing"
     ],
     "language": "python",
     "metadata": {},
     "outputs": [
      {
       "metadata": {},
       "output_type": "display_data",
       "text": [
        "Just 3"
       ]
      },
      {
       "metadata": {},
       "output_type": "display_data",
       "text": [
        "Just 3"
       ]
      },
      {
       "metadata": {},
       "output_type": "display_data",
       "text": [
        "Nothing"
       ]
      }
     ],
     "prompt_number": 3
    },
    {
     "cell_type": "markdown",
     "metadata": {
      "hidden": false
     },
     "source": [
      "As we can see, this works precisely like `fmap`. And this is perfectly fine for unary functions. However, what about binary functions? What would we get by doing this?\n",
      "\n",
      "```haskell\n",
      "(+) <<$>> Just 2\n",
      "```\n",
      "\n",
      "Well, the answer is quite simple, we would get `Just (2+)`. However, doing anything with this is pretty difficult. This is where the `<*>` function needs to be introduced.\n",
      "\n",
      "## `<*>`\n",
      "\n",
      "The `<*>` function allows us to apply functions to multiple wrapped arguments. This is incredibly useful! Let us begin by looking at the type."
     ]
    },
    {
     "cell_type": "code",
     "collapsed": false,
     "input": [
      ":t (<*>)"
     ],
     "language": "python",
     "metadata": {},
     "outputs": [
      {
       "html": [
        "<span class='get-type'>(<*>) :: forall (f :: * -> *) a b. Applicative f => f (a -> b) -> f a -> f b</span>"
       ],
       "metadata": {},
       "output_type": "display_data",
       "text": [
        "(<*>) :: forall (f :: * -> *) a b. Applicative f => f (a -> b) -> f a -> f b"
       ]
      }
     ],
     "prompt_number": 4
    },
    {
     "cell_type": "markdown",
     "metadata": {
      "hidden": false
     },
     "source": [
      "This takes a wrapped function `(a -> b)`, a wrapped argument of type `a` and returns a wrapped argument of type `b`. It is very similar to `fmap` and `<$>`, but those take the function unwrapped. However, if it is a function of arity 2 or higher, we will not get a wrapped result. Well, we will, but that result will be a function. To keep applying it, `<*>` is precisely what we need. Let us try it out!"
     ]
    },
    {
     "cell_type": "code",
     "collapsed": false,
     "input": [
      "(+) <$> Just 2 <*> Just 3\n",
      "(+) <$> Just 1 <*> Nothing\n",
      "(+) <$> Nothing <*> Just 9\n",
      "(+) <$> Nothing <*> Nothing"
     ],
     "language": "python",
     "metadata": {},
     "outputs": [
      {
       "metadata": {},
       "output_type": "display_data",
       "text": [
        "Just 5"
       ]
      },
      {
       "metadata": {},
       "output_type": "display_data",
       "text": [
        "Nothing"
       ]
      },
      {
       "metadata": {},
       "output_type": "display_data",
       "text": [
        "Nothing"
       ]
      },
      {
       "metadata": {},
       "output_type": "display_data",
       "text": [
        "Nothing"
       ]
      }
     ],
     "prompt_number": 5
    },
    {
     "cell_type": "markdown",
     "metadata": {
      "hidden": false
     },
     "source": [
      "This should be pretty clear on such a basic functor as `Maybe`. But let us write our own implementation of it using `do` notation."
     ]
    },
    {
     "cell_type": "code",
     "collapsed": false,
     "input": [
      "infixl 4 <<*>>\n",
      "\n",
      "f <<*>> a = do\n",
      "    f' <- f\n",
      "    x  <- a\n",
      "    return $ f' x\n",
      "    \n",
      "(+) <<$>> Just 2 <<*>> Just 3\n",
      "(+) <<$>> Nothing <<*>> Just 3\n",
      "(+) <<$>> Just 2 <<*>> Nothing"
     ],
     "language": "python",
     "metadata": {},
     "outputs": [
      {
       "metadata": {},
       "output_type": "display_data",
       "text": [
        "Just 5"
       ]
      },
      {
       "metadata": {},
       "output_type": "display_data",
       "text": [
        "Nothing"
       ]
      },
      {
       "metadata": {},
       "output_type": "display_data",
       "text": [
        "Nothing"
       ]
      }
     ],
     "prompt_number": 6
    },
    {
     "cell_type": "markdown",
     "metadata": {
      "hidden": false
     },
     "source": [
      "So this seems to work. While the types are wrong (`do` notation requires something to be a `Monad`), the functionality is the same. A lot of `Applicative` instances **are** Monads, so this will work on quite a few of them.\n",
      "\n",
      "So far, were were able to explain these functions via the concepts of wrapping and unwrapping. However, the next three require the introductions of *actions*. We will turn to our old friend, `IO`.\n",
      "\n",
      "## `*>` and `<*`\n",
      "\n",
      "The two functions are quite similar. As before, we will first look at their types, then try to use that to explain what they do."
     ]
    },
    {
     "cell_type": "code",
     "collapsed": false,
     "input": [
      ":t (*>)\n",
      ":t (<*)"
     ],
     "language": "python",
     "metadata": {},
     "outputs": [
      {
       "html": [
        "<span class='get-type'>(*>) :: forall (f :: * -> *) a b. Applicative f => f a -> f b -> f b</span>"
       ],
       "metadata": {},
       "output_type": "display_data",
       "text": [
        "(*>) :: forall (f :: * -> *) a b. Applicative f => f a -> f b -> f b"
       ]
      },
      {
       "html": [
        "<span class='get-type'>(<*) :: forall (f :: * -> *) a b. Applicative f => f a -> f b -> f a</span>"
       ],
       "metadata": {},
       "output_type": "display_data",
       "text": [
        "(<*) :: forall (f :: * -> *) a b. Applicative f => f a -> f b -> f a"
       ]
      }
     ],
     "prompt_number": 7
    },
    {
     "cell_type": "markdown",
     "metadata": {
      "hidden": false
     },
     "source": [
      "We will now say that `f a` and `f b` are no longer just wrappers around something, but actions that produce something. For example, the `getLine` action would be `f String`; `IO String` to be more precise.\n",
      "\n",
      "So, these operators both take two actions and do something with them? What exactly?\n",
      "\n",
      "Well, they evaluate both. **However** only one of their results is actually kept - the one the bracket points to - and the other is simply discarded. Yet, both actions are forced to happen (in order, left then right). Let us try this out on a few examples.\n",
      "\n",
      "To properly experience them, either run these in IHaskell or copy them to ghci or a file. Remember to import `Control.Applicative`."
     ]
    },
    {
     "cell_type": "code",
     "collapsed": false,
     "input": [
      "readFirst :: IO String\n",
      "readFirst = getLine <* getLine\n",
      "\n",
      "readSecond :: IO String\n",
      "readSecond = getLine *> getLine\n",
      "\n",
      "readMiddle :: IO String\n",
      "readMiddle = getLine *> getLine <* getLine\n",
      "\n",
      "readFirst\n",
      "\n",
      "readSecond\n",
      "\n",
      "readMiddle"
     ],
     "language": "python",
     "metadata": {},
     "outputs": [
      {
       "metadata": {},
       "output_type": "display_data",
       "text": [
        "\"a\""
       ]
      },
      {
       "metadata": {},
       "output_type": "display_data",
       "text": [
        "\"d\""
       ]
      },
      {
       "metadata": {},
       "output_type": "display_data",
       "text": [
        "\"f\""
       ]
      }
     ],
     "prompt_number": 8
    },
    {
     "cell_type": "markdown",
     "metadata": {
      "hidden": false
     },
     "source": [
      "As you can see, you are prompted two (or three in the last example) times, but only one result is actually kept. Now, this might not be especially useful for IO, but there are some use cases where having this is a must. The most notable of them is parsing - something we want to check a string is contained in some text, but we don't actually have to use it for anything once we know it exists.\n",
      "\n",
      "Let us create our own implementations of those two functions with `do`."
     ]
    },
    {
     "cell_type": "code",
     "collapsed": false,
     "input": [
      "import Control.Monad (void)\n",
      "\n",
      "infixl 4 <<*\n",
      "infixl 4 *>>\n",
      "\n",
      "a <<* b = do\n",
      "    x <- a\n",
      "    void b\n",
      "    return x\n",
      "    \n",
      "a *>> b = do\n",
      "    void a\n",
      "    b\n",
      "    \n",
      "myMiddle :: IO String    \n",
      "myMiddle = getLine *>> getLine <<* getLine\n",
      "\n",
      "myMiddle"
     ],
     "language": "python",
     "metadata": {},
     "outputs": [
      {
       "metadata": {},
       "output_type": "display_data",
       "text": [
        "\"bla\""
       ]
      }
     ],
     "prompt_number": 9
    },
    {
     "cell_type": "markdown",
     "metadata": {
      "hidden": false
     },
     "source": [
      "Note the `void` function. It is not mandatory here, but ghc will complain otherwise. It takes a function that has a result (like `IO String` this this case) and just discards it, making the function return `()` (more precisely, `IO ()` in our example).\n",
      "\n",
      "## Other\n",
      "\n",
      "There are a few other functions if interest, such as `<$` and `$>`, but we will not go into these. You will commonly not need them, but you may research them if you find them useful."
     ]
    }
   ],
   "metadata": {}
  }
 ]
}