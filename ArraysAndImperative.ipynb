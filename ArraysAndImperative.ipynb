{
 "metadata": {
  "language": "haskell",
  "name": "",
  "signature": "sha256:28af5edcea0b89326bc689f9baafba909cc4d17929ebcc1f05a31b350861c0f3"
 },
 "nbformat": 3,
 "nbformat_minor": 0,
 "worksheets": [
  {
   "cells": [
    {
     "cell_type": "markdown",
     "metadata": {
      "hidden": false
     },
     "source": [
      "# Arrays and Imperative Programming in Haskell\n",
      "\n",
      "We will be discussing arrays, a fundementally imperative structure, as well as programming in the imperative style in general. While these might not be very idiomatic to the language, Haskell implements them and makes (some versions of) them quite usables.\n",
      "\n",
      "## Arrays\n",
      "\n",
      "We are all familiar with arrays from other, imperative, languages. They are data structures - containers - the elements of which we can access in $\\mathcal{O}(1)$ (actually $\\theta(1)$). Unlike lists, however, they are not recursive structures. The best we can get with recursion are Sequences, based on finger trees, that have a time complexity ranging from $\\theta(1)$ to $\\theta(\\log n)$. We need to look elsewhere.\n",
      "\n",
      "We can divide arrays offered by Haskell into four broad categories. They are given here, with an array belonging to each pair.\n",
      "\n",
      "\n",
      "\n",
      "\n",
      "\n",
      "|             | Immutable | Mutable  |\n",
      "|------------------------------------|\n",
      "| **Boxed**   | Array     | IOArray  |\n",
      "| **Unboxed** | UArray    | IOUArray |\n",
      "\n",
      "\n",
      "\n",
      "\n",
      "These are hardly the only representatives of these classes. There also exist:\n",
      "* DiffArray (Immutable Boxed)\n",
      "* DiffUArray (Immutable Unboxed)\n",
      "* StorableArray (Mutable Unboxed)\n",
      "* **STArray** (Mutable Boxed)\n",
      "* **STUArray** (Mutable Unboxed)\n",
      "\n",
      "The difference between immutable and mutable arrays in quite simple - one cannot change an immutable operator, but can only create a new instance. This does not hold for mutable arrays - we can freely set values. You might, however, notice that our representative mutable array is wrapped in IO. This is because mutating values is *clearly* impure and has to be wrapped. A similar thing occurs with the STArray family, but they are not wrapped in IO, but in something called ST.\n",
      "\n",
      "The difference between boxed and unboxed arrays is a bit more subtle. The easiest way to explain them is probably by comparing them to C arrays. We can compare *Boxed* arrays to C arrays of pointers. The \"elements\" have a constant size - the size of a pointer - no matter their actual size, like `void*[]`. However, there is also the overhead of boxing and unboxing them. The *Unboxed* arrays can be compared to C arrays of primitives like `char[]` or `int[]`. We don't have to bother with boxing and unboxing at all and that makes them a lot more efficient.\n",
      "\n",
      "So, why would we *ever* use boxed arrays?\n",
      "\n",
      "Well, quite simply, we can only put some types in unboxed arrays. Specifically, only plain values of fixed size like Int, Char, Bool, ...\n",
      "\n",
      "Furthermore, boxed arrays *do* have some advantages - lazy evaluation, for example.\n",
      "\n",
      "---\n",
      "\n",
      "Both Array and UArray implement the same ~~horrible~~ \"interface\".\n",
      "\n",
      "### Data.Array.IArray\n",
      "\n",
      "```haskell\n",
      "-- | Constructors\n",
      "array :: (IArray a e, Ix i) => (i, i) -> [(i, e)] -> a i e\n",
      "\n",
      "listArray :: (IArray a e, Ix i) => (i, i) -> [e] -> a i e\n",
      "\n",
      "accumArray :: (IArray a d, Ix i) => (d -> e -> d) -> d -> (i, i) -> [(i, e)] -> a i d\n",
      "\n",
      "-- | Accessors\n",
      "(!) :: (IArray a e, Ix i) => a e -> i -> e\n",
      "\n",
      "indices :: (IArray a e, Ix i) => a i e -> [i]\n",
      "\n",
      "elems :: (IArray a e, Ix i) => a i e -> [e]\n",
      "\n",
      "assocs :: (IArray a e, Ix i) => a i e -> [(i, e)]\n",
      "\n",
      "-- | Incremental updates\n",
      "(//) :: (IArray a e, Ix i) => a i e -> [(i, e)] -> a i e\n",
      "\n",
      "accum :: (IArray a e, Ix i) => (e -> e' -> e) -> a i e -> [(i, e')] -> a i e\n",
      "\n",
      "-- | Mapping\n",
      "amap :: (IArray a e', IArray a e, Ix i) => (e' -> e) -> a i e' -> a i e\n",
      "\n",
      "ixmap :: (IArray a e, Ix i, Ix j) -> (i, i) -> (i -> j) -> a j e -> a i e\n",
      "\n",
      "-- | Other\n",
      "bounds :: (IArray a e, Ix i) => a i e -> (i, i)\n",
      "```\n",
      "\n",
      "Let's give it a go:"
     ]
    },
    {
     "cell_type": "code",
     "collapsed": false,
     "input": [
      "import Data.Array\n",
      "\n",
      "a = array (0, 2) [(0, id), (1, (+1)), (2, (^2))]\n",
      "b = listArray (0, 4) [5..1]\n",
      "c = accumArray (*) 2 (0, 1) [(0, 1), (1, 2)]\n",
      "\n",
      "e = c ! 1\n",
      "\n",
      "e\n",
      "\n",
      "(a ! 2) e"
     ],
     "language": "python",
     "metadata": {
      "hidden": false
     },
     "outputs": [
      {
       "metadata": {},
       "output_type": "display_data",
       "text": [
        "4"
       ]
      },
      {
       "metadata": {},
       "output_type": "display_data",
       "text": [
        "16"
       ]
      }
     ],
     "prompt_number": 47
    },
    {
     "cell_type": "code",
     "collapsed": false,
     "input": [
      "indices b\n",
      "\n",
      "elems c\n",
      "\n",
      "assocs c\n",
      "\n",
      "bounds a"
     ],
     "language": "python",
     "metadata": {
      "hidden": false
     },
     "outputs": [
      {
       "metadata": {},
       "output_type": "display_data",
       "text": [
        "[0,1,2,3,4]"
       ]
      },
      {
       "metadata": {},
       "output_type": "display_data",
       "text": [
        "[2,4]"
       ]
      },
      {
       "metadata": {},
       "output_type": "display_data",
       "text": [
        "[(0,2),(1,4)]"
       ]
      },
      {
       "metadata": {},
       "output_type": "display_data",
       "text": [
        "(0,2)"
       ]
      }
     ],
     "prompt_number": 48
    },
    {
     "cell_type": "code",
     "collapsed": false,
     "input": [
      "d = c // [(0, 7)]\n",
      "\n",
      "elems d\n",
      "\n",
      "f = accum (-) d (assocs d)\n",
      "\n",
      "assocs f"
     ],
     "language": "python",
     "metadata": {
      "hidden": false
     },
     "outputs": [
      {
       "metadata": {},
       "output_type": "display_data",
       "text": [
        "[7,4]"
       ]
      },
      {
       "metadata": {},
       "output_type": "display_data",
       "text": [
        "[(0,0),(1,0)]"
       ]
      }
     ],
     "prompt_number": 49
    },
    {
     "cell_type": "markdown",
     "metadata": {
      "hidden": false
     },
     "source": [
      "It works *exactly* the same for UArray, as it implements the same typeclass (the \"interface\" mentioned before) except that its types are more limited and it's actually more efficient under the hood.\n",
      "\n",
      "Please never use these.\n",
      "\n",
      "There is a far more usable implementation of arrays under a different name and you've already seen it in one of the homework assignments. Any ideas?\n",
      "\n",
      "<br/><br/><br/><br/><br/>\n",
      "\n",
      "---\n",
      "\n",
      "### Data.Vector\n",
      "\n",
      "Data.Vector and Data.Vector.Unboxed offer a richer, more list-like interface. However, there is one crucial difference between instances of IArray and Vectors - Vectors are unbounded arrays. If you want them to be bounded, you have to write a wrapper around them. What they are, however, is usable and quite intuitive.\n",
      "\n",
      "Let's see what the unboxed version can do:"
     ]
    },
    {
     "cell_type": "code",
     "collapsed": false,
     "input": [
      "import Data.Vector.Unboxed\n",
      "import Prelude hiding (init, sum, elem, map)\n",
      "import Data.Array hiding ((!), (//))\n",
      "\n",
      "v = empty :: (Vector Int)\n",
      "w = 0 `cons` v `snoc` 1\n",
      "\n",
      "w\n",
      "\n",
      "v' = fromList [1..10]\n",
      "\n",
      "init v'\n",
      "\n",
      "sum v'\n",
      "\n",
      "3 `elem` v\n",
      "\n",
      "3 `elem` v'\n",
      "\n",
      "w' = map (`div` 2) v' :: (Vector Int)\n",
      "\n",
      "w' ! 2\n",
      "\n",
      "slice 3 5 w'\n"
     ],
     "language": "python",
     "metadata": {
      "hidden": false
     },
     "outputs": [
      {
       "metadata": {},
       "output_type": "display_data",
       "text": [
        "fromList [0,1]"
       ]
      },
      {
       "metadata": {},
       "output_type": "display_data",
       "text": [
        "fromList [1.0,2.0,3.0,4.0,5.0,6.0,7.0,8.0,9.0]"
       ]
      },
      {
       "metadata": {},
       "output_type": "display_data",
       "text": [
        "55.0"
       ]
      },
      {
       "metadata": {},
       "output_type": "display_data",
       "text": [
        "False"
       ]
      },
      {
       "metadata": {},
       "output_type": "display_data",
       "text": [
        "True"
       ]
      },
      {
       "metadata": {},
       "output_type": "display_data",
       "text": [
        "1"
       ]
      },
      {
       "metadata": {},
       "output_type": "display_data",
       "text": [
        "fromList [2,2,3,3,4]"
       ]
      }
     ],
     "prompt_number": 16
    },
    {
     "cell_type": "markdown",
     "metadata": {
      "hidden": false
     },
     "source": [
      "You will probably agree Data.Vector trumps Data.Array as far as usability goes. Unless you have a really good reason, Data.Vector should be your preferred immutable array of choice.\n",
      "\n",
      "So, we have a (somewhat) $\\mathcal{O}(1)$ data structure. Why would we every use lists? Silly list users.\n",
      "\n",
      "Well, it turns out there is a big donwside to using such a non-functional data structure in functional code.\n",
      "\n",
      "What are the time complexities of the following functions?\n",
      "\n",
      "```haskell\n",
      "(:) :: a -> [a] -> [a]\n",
      "\n",
      "cons :: a -> Vector a -> Vector a\n",
      "```\n",
      "\n",
      "<br/><br/><br/><br/>\n",
      "\n",
      "The answers are $\\mathcal{O}(1)$ and $\\mathcal{O}(n)$.\n",
      "Why?\n",
      "\n",
      "Naturally, we want to avoid copying the array every time. Luckily, we can do that. That's where mutable arrays come into play. But let us first introduce the basics of imperative programming in Haskell.\n",
      "\n",
      "## Writing imperative code in Haskell\n",
      "\n",
      "Some problems are pretty tricky or inefficient when solved functionally. Besides, none of your friends understand your Haskell code. The obvious solution is to just give up and write imperative code. There are, however, two very big problems with that.\n",
      "\n",
      "- Side effects\n",
      "- Code needs to be executed in order\n",
      "\n",
      "Haskell doesn't do well with either of those things. There is more than one way to solve these problems, but the prevalent one has to do with monads. Don't be intimidated however, you've already worked with a bunch of monads without knowing it. Let's start out by using `IO` for this.\n",
      "\n"
     ]
    }
   ],
   "metadata": {}
  }
 ]
}