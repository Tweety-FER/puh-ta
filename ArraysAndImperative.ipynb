{
 "metadata": {
  "language": "haskell",
  "name": "",
  "signature": "sha256:4c19a45340389dac42e90bf52c754c5bd97b00c64d414671a4712ecc182c651f"
 },
 "nbformat": 3,
 "nbformat_minor": 0,
 "worksheets": [
  {
   "cells": [
    {
     "cell_type": "markdown",
     "metadata": {
      "hidden": false
     },
     "source": [
      "University of Zagreb<br/>\n",
      "Faculty of Electrical Engineering and Computing\n",
      "\n",
      "Programming in Haskell\n",
      "\n",
      "http://www.fer.unizg.hr/predmet/puh\n",
      "\n",
      "Academic Year 2014/2015\n",
      "\n",
      "# Arrays and Imperative Programming in Haskell\n",
      "\n",
      "&copy; 2014 Luka Skukan\n",
      "\n",
      "*Version 1.0*\n",
      "\n",
      "---\n",
      "\n",
      "We will be discussing arrays, a fundementally imperative structure, as well as programming in the imperative style in general. While these might not be very idiomatic to the language, Haskell implements them and makes (some versions of) them quite usable.\n",
      "\n",
      "## Arrays\n",
      "\n",
      "We are all familiar with arrays from other, imperative, languages. They are data structures - containers - the elements of which we can access in $\\mathcal{O}(1)$ (actually $\\theta(1)$). Unlike lists, however, they are not recursive structures. The best we can get with recursion are Sequences, based on finger trees, that have a time complexity ranging from $\\theta(1)$ to $\\theta(\\log n)$. We need to look elsewhere.\n",
      "\n",
      "We can divide arrays offered by Haskell into four broad categories. They are given here, with an array belonging to each pair.\n",
      "\n",
      "\n",
      "\n",
      "\n",
      "\n",
      "|             | Immutable   | Mutable    |\n",
      "|----------------------------------------|\n",
      "| **Boxed**   | `Array`     | `IOArray`  |\n",
      "| **Unboxed** | `UArray`    | `IOUArray` |\n",
      "\n",
      "\n",
      "\n",
      "\n",
      "These are hardly the only representatives of these classes. There also exist:\n",
      "* `DiffArray` (Immutable Boxed)\n",
      "* `DiffUArray` (Immutable Unboxed)\n",
      "* `StorableArray` (Mutable Unboxed)\n",
      "* `STArray` (Mutable Boxed)\n",
      "* `STUArray` (Mutable Unboxed)\n",
      "\n",
      "The difference between immutable and mutable arrays in quite simple - one cannot change an immutable operator, but can only create a new instance. This does not hold for mutable arrays - we can freely set values. You might, however, notice that our representative mutable array is wrapped in IO. This is because mutating values is *clearly* impure and has to be wrapped. A similar thing occurs with the `STArray` family, but they are not wrapped in IO, but in something called ST.\n",
      "\n",
      "The difference between boxed and unboxed arrays is a bit more subtle. The easiest way to explain them is probably by comparing them to C arrays. We can compare *Boxed* arrays to C arrays of pointers. The \"elements\" have a constant size - the size of a pointer - no matter their actual size, like `void*[]`. However, there is also the overhead of boxing and unboxing them. The *Unboxed* arrays can be compared to C arrays of primitives like `char[]` or `int[]`. We don't have to bother with boxing and unboxing at all and that makes them a lot more efficient.\n",
      "\n",
      "So, why would we *ever* use boxed arrays?\n",
      "\n",
      "Well, quite simply, we can only put some types in unboxed arrays. Specifically, only plain values of fixed size like Int, Char, Bool, ...\n",
      "\n",
      "Furthermore, boxed arrays *do* have some advantages - lazy evaluation, for example.\n",
      "\n",
      "---\n",
      "\n",
      "Both `Array` and `UArray` implement the same ~~horrible~~ \"interface\".\n",
      "\n",
      "### Data.Array.IArray\n",
      "\n",
      "```haskell\n",
      "-- | Constructors\n",
      "array :: (IArray a e, Ix i) => (i, i) -> [(i, e)] -> a i e\n",
      "\n",
      "listArray :: (IArray a e, Ix i) => (i, i) -> [e] -> a i e\n",
      "\n",
      "accumArray :: (IArray a d, Ix i) => (d -> e -> d) -> d -> (i, i) -> [(i, e)] -> a i d\n",
      "\n",
      "-- | Accessors\n",
      "(!) :: (IArray a e, Ix i) => a e -> i -> e\n",
      "\n",
      "indices :: (IArray a e, Ix i) => a i e -> [i]\n",
      "\n",
      "elems :: (IArray a e, Ix i) => a i e -> [e]\n",
      "\n",
      "assocs :: (IArray a e, Ix i) => a i e -> [(i, e)]\n",
      "\n",
      "-- | Incremental updates\n",
      "(//) :: (IArray a e, Ix i) => a i e -> [(i, e)] -> a i e\n",
      "\n",
      "accum :: (IArray a e, Ix i) => (e -> e' -> e) -> a i e -> [(i, e')] -> a i e\n",
      "\n",
      "-- | Mapping\n",
      "amap :: (IArray a e', IArray a e, Ix i) => (e' -> e) -> a i e' -> a i e\n",
      "\n",
      "ixmap :: (IArray a e, Ix i, Ix j) -> (i, i) -> (i -> j) -> a j e -> a i e\n",
      "\n",
      "-- | Other\n",
      "bounds :: (IArray a e, Ix i) => a i e -> (i, i)\n",
      "```\n",
      "\n",
      "Let's give it a go:"
     ]
    },
    {
     "cell_type": "code",
     "collapsed": false,
     "input": [
      "import Data.Array\n",
      "\n",
      "a = array (0, 2) [(0, id), (1, (+1)), (2, (^2))]\n",
      "b = listArray (0, 4) [5..1]\n",
      "c = accumArray (*) 2 (0, 1) [(0, 1), (1, 2)]\n",
      "\n",
      "e = c ! 1\n",
      "\n",
      "e\n",
      "\n",
      "(a ! 2) e"
     ],
     "language": "python",
     "metadata": {},
     "outputs": [
      {
       "metadata": {},
       "output_type": "display_data",
       "text": [
        "4"
       ]
      },
      {
       "metadata": {},
       "output_type": "display_data",
       "text": [
        "16"
       ]
      }
     ],
     "prompt_number": 1
    },
    {
     "cell_type": "code",
     "collapsed": false,
     "input": [
      "indices b\n",
      "\n",
      "elems c\n",
      "\n",
      "assocs c\n",
      "\n",
      "bounds a"
     ],
     "language": "python",
     "metadata": {},
     "outputs": [
      {
       "metadata": {},
       "output_type": "display_data",
       "text": [
        "[0,1,2,3,4]"
       ]
      },
      {
       "metadata": {},
       "output_type": "display_data",
       "text": [
        "[2,4]"
       ]
      },
      {
       "metadata": {},
       "output_type": "display_data",
       "text": [
        "[(0,2),(1,4)]"
       ]
      },
      {
       "metadata": {},
       "output_type": "display_data",
       "text": [
        "(0,2)"
       ]
      }
     ],
     "prompt_number": 2
    },
    {
     "cell_type": "code",
     "collapsed": false,
     "input": [
      "d = c // [(0, 7)]\n",
      "\n",
      "elems d\n",
      "\n",
      "f = accum (-) d (assocs d)\n",
      "\n",
      "assocs f"
     ],
     "language": "python",
     "metadata": {},
     "outputs": [
      {
       "metadata": {},
       "output_type": "display_data",
       "text": [
        "[7,4]"
       ]
      },
      {
       "metadata": {},
       "output_type": "display_data",
       "text": [
        "[(0,0),(1,0)]"
       ]
      }
     ],
     "prompt_number": 3
    },
    {
     "cell_type": "markdown",
     "metadata": {
      "hidden": false
     },
     "source": [
      "It works *exactly* the same for `UArray`, as it implements the same typeclass (the \"interface\" mentioned before) except that its types are more limited and it's actually more efficient under the hood.\n",
      "\n",
      "Please never use these.\n",
      "\n",
      "There is a far more usable implementation of arrays under a different name and you've already seen it in one of the homework assignments. Any ideas?\n",
      "\n",
      "<br/><br/><br/><br/><br/>\n",
      "\n",
      "---\n",
      "\n",
      "### Data.Vector\n",
      "\n",
      "**Data.Vector** and **Data.Vector.Unboxed** offer a richer, more list-like interface. However, there is one crucial difference between instances of `IArray` and `Vector` - Vectors are unbounded arrays. If you want them to be bounded, you have to write a wrapper around them. What they are, however, is usable and quite intuitive.\n",
      "\n",
      "Let's see what the unboxed version can do:"
     ]
    },
    {
     "cell_type": "code",
     "collapsed": false,
     "input": [
      "import Data.Vector.Unboxed\n",
      "import Prelude hiding (init, sum, elem, map)\n",
      "import Data.Array hiding ((!), (//))\n",
      "\n",
      "v = empty :: (Vector Int)\n",
      "w = 0 `cons` v `snoc` 1\n",
      "\n",
      "w\n",
      "\n",
      "v' = fromList [1..10]\n",
      "\n",
      "init v'\n",
      "\n",
      "sum v'\n",
      "\n",
      "3 `elem` v\n",
      "\n",
      "3 `elem` v'\n",
      "\n",
      "w' = map (`div` 2) v' :: (Vector Int)\n",
      "\n",
      "w' ! 2\n",
      "\n",
      "slice 3 5 w'\n"
     ],
     "language": "python",
     "metadata": {},
     "outputs": [
      {
       "metadata": {},
       "output_type": "display_data",
       "text": [
        "fromList [0,1]"
       ]
      },
      {
       "metadata": {},
       "output_type": "display_data",
       "text": [
        "fromList [1.0,2.0,3.0,4.0,5.0,6.0,7.0,8.0,9.0]"
       ]
      },
      {
       "metadata": {},
       "output_type": "display_data",
       "text": [
        "55.0"
       ]
      },
      {
       "metadata": {},
       "output_type": "display_data",
       "text": [
        "False"
       ]
      },
      {
       "metadata": {},
       "output_type": "display_data",
       "text": [
        "True"
       ]
      },
      {
       "metadata": {},
       "output_type": "display_data",
       "text": [
        "1"
       ]
      },
      {
       "metadata": {},
       "output_type": "display_data",
       "text": [
        "fromList [2,2,3,3,4]"
       ]
      }
     ],
     "prompt_number": 4
    },
    {
     "cell_type": "markdown",
     "metadata": {
      "hidden": false
     },
     "source": [
      "You will probably agree **Data.Vector** trumps **Data.Array** as far as usability goes. Unless you have a really good reason to do otherwise, **Data.Vector** should be your preferred immutable array of choice.\n",
      "\n",
      "So, we have a (somewhat) $\\mathcal{O}(1)$ data structure. Why would we every use lists? Silly list users.\n",
      "\n",
      "Well, it turns out there is a big donwside to using such a non-functional data structure in functional code.\n",
      "\n",
      "What are the time complexities of the following functions?\n",
      "\n",
      "```haskell\n",
      "(:) :: a -> [a] -> [a]\n",
      "\n",
      "cons :: a -> Vector a -> Vector a\n",
      "```\n",
      "\n",
      "<br/><br/><br/><br/>\n",
      "\n",
      "The answers are $\\mathcal{O}(1)$ and $\\mathcal{O}(n)$.\n",
      "Why?\n",
      "\n",
      "Naturally, we want to avoid copying the array every time. Luckily, we can do that. That's where mutable arrays come into play. But let us first introduce the basics of imperative programming in Haskell.\n",
      "\n",
      "## Writing imperative code in Haskell\n",
      "\n",
      "Some problems are pretty tricky or inefficient when solved functionally. Besides, none of your friends understand your Haskell code. The obvious solution is to just give up and write imperative code. There are, however, two very big problems with that.\n",
      "\n",
      "- Side effects\n",
      "- Code needs to be executed in order\n",
      "\n",
      "Haskell doesn't do well with either of those things. There is more than one way to solve these problems, but the prevalent one has to do with monads. Don't be intimidated however, you've already worked with a bunch of monads without knowing it. Let's start out by using `IO` for this.\n",
      "\n"
     ]
    },
    {
     "cell_type": "code",
     "collapsed": false,
     "input": [
      "import Data.IORef\n",
      "\n",
      "fooImp :: IO ()\n",
      "fooImp = do\n",
      "    x <- newIORef 0\n",
      "    writeIORef x 1\n",
      "    modifyIORef x (+1) -- Lazy!\n",
      "    modifyIORef' x (+1) -- Strict!\n",
      "    readIORef x >>= print\n",
      "    \n",
      "fooImp"
     ],
     "language": "python",
     "metadata": {},
     "outputs": [
      {
       "metadata": {},
       "output_type": "display_data",
       "text": [
        "3"
       ]
      }
     ],
     "prompt_number": 5
    },
    {
     "cell_type": "markdown",
     "metadata": {
      "hidden": false
     },
     "source": [
      "There are more possible operations with IORef, but most have to deal with multithreading and such. You can look up the **Data.IORef** package yourselves.\n",
      "\n",
      "IORefs enable us to use variables in the imperative context. The same goes for arrays! We can use **Data.Array.IO**. Mutable arrays implement a **Data.Arrays.MArray** interface, which is similar to the **IArray** interface.\n",
      "\n",
      "Again, we deal with boxed and unboxed arrays. The same constraints as for immutable arrays apply. Let us give it a go:"
     ]
    },
    {
     "cell_type": "code",
     "collapsed": false,
     "input": [
      "import Data.Array.IO\n",
      "\n",
      "fooIOArray :: IO ()\n",
      "fooIOArray = do\n",
      "    arr <- newArray (1, 10) 1 :: IO (IOArray Int Int) -- Bounds and initial values\n",
      "    \n",
      "    e <- readArray arr 1\n",
      "    print e\n",
      "    \n",
      "    writeArray arr 2 2\n",
      "    writeArray arr 3 3\n",
      "    \n",
      "    a <- readArray arr 2\n",
      "    b <- readArray arr 3\n",
      "    \n",
      "    print $ a * b\n",
      "    \n",
      "fooIOArray"
     ],
     "language": "python",
     "metadata": {},
     "outputs": [
      {
       "metadata": {},
       "output_type": "display_data",
       "text": [
        "1\n",
        "6"
       ]
      }
     ],
     "prompt_number": 6
    },
    {
     "cell_type": "markdown",
     "metadata": {
      "hidden": false
     },
     "source": [
      "There are a few functions not used here, namely:\n",
      "\n",
      "```haskell\n",
      "newListArray :: (MArray a e m, Ix i) => (i, i) -> [e] -> m (a i e)\n",
      "\n",
      "mapArray :: (MArray a e' m, MArray a e m, Ix i) => (e' -> e) -> a i e' -> m (a i e)\n",
      "\n",
      "mapIndices :: (MArray a e m, Ix i, Ix j) => (i, i) -> (i -> j) -> a j e -> m (a i e)\n",
      "```\n",
      "\n",
      "and a few others.\n",
      "\n",
      "We can combine these to actually do something imperative. But first, let us introduce a few new impure functions. You are familiar with the `map` function by now. However, if we try do use `map` for impure actions, it will not work! The types will be wrong."
     ]
    },
    {
     "cell_type": "code",
     "collapsed": false,
     "input": [
      "import Data.Vector hiding (map)\n",
      "import Data.Vector.Unboxed hiding (map)\n",
      "import Prelude (map)\n",
      "\n",
      ":type putStrLn\n",
      ":type map\n",
      "f1 = map putStrLn [\"one\", \"two\", \"three\"]\n",
      "f1"
     ],
     "language": "python",
     "metadata": {},
     "outputs": [
      {
       "html": [
        "<span class='get-type'>putStrLn :: String -> IO ()</span>"
       ],
       "metadata": {},
       "output_type": "display_data",
       "text": [
        "putStrLn :: String -> IO ()"
       ]
      },
      {
       "html": [
        "<span class='get-type'>map :: forall a b. (a -> b) -> [a] -> [b]</span>"
       ],
       "metadata": {},
       "output_type": "display_data",
       "text": [
        "map :: forall a b. (a -> b) -> [a] -> [b]"
       ]
      },
      {
       "html": [
        "<div class='collapse-group'><span class='btn' href='#' id='unshowable'>Unshowable:<span class='show-type'>IO ()</span></span><span class='err-msg collapse'>No instance for (Show (IO ())) arising from a use of `print'<br/>Possible fix: add an instance declaration for (Show (IO ()))<br/>In a stmt of an interactive GHCi command: print it</span></div><script>$('#unshowable').on('click', function(e) {\n",
        "    e.preventDefault();\n",
        "    var $this = $(this);\n",
        "    var $collapse = $this.closest('.collapse-group').find('.err-msg');\n",
        "    $collapse.collapse('toggle');\n",
        "});\n",
        "</script>"
       ],
       "metadata": {},
       "output_type": "display_data",
       "text": [
        "No instance for (Show (IO ())) arising from a use of `print'\n",
        "Possible fix: add an instance declaration for (Show (IO ()))\n",
        "In a stmt of an interactive GHCi command: print it"
       ]
      }
     ],
     "prompt_number": 10
    },
    {
     "cell_type": "markdown",
     "metadata": {
      "hidden": false
     },
     "source": [
      "There are, however, two variants of `map` that work on impure functions. Namely, `mapM` and `mapM_`. The difference can be seen from their respective types, as shown below. Which one is suitable for the task above, instead of the mundane `map`?"
     ]
    },
    {
     "cell_type": "code",
     "collapsed": false,
     "input": [
      "import Data.Vector hiding (mapM, mapM_)\n",
      "import Data.Vector.Unboxed hiding (mapM, mapM_)\n",
      "\n",
      ":type mapM\n",
      ":type mapM_\n",
      "\n",
      "arr = mapM newIORef [1,2,3,4]\n",
      ":type arr\n",
      "\n",
      "prem = mapM_ print [1,2,3,4]\n",
      ":type prem\n",
      "prem"
     ],
     "language": "python",
     "metadata": {},
     "outputs": [
      {
       "html": [
        "<span class='get-type'>mapM :: forall a (m :: * -> *) b. Monad m => (a -> m b) -> [a] -> m [b]</span>"
       ],
       "metadata": {},
       "output_type": "display_data",
       "text": [
        "mapM :: forall a (m :: * -> *) b. Monad m => (a -> m b) -> [a] -> m [b]"
       ]
      },
      {
       "html": [
        "<span class='get-type'>mapM_ :: forall a (m :: * -> *) b. Monad m => (a -> m b) -> [a] -> m ()</span>"
       ],
       "metadata": {},
       "output_type": "display_data",
       "text": [
        "mapM_ :: forall a (m :: * -> *) b. Monad m => (a -> m b) -> [a] -> m ()"
       ]
      },
      {
       "html": [
        "<span class='get-type'>arr :: forall a. Num a => IO [IORef a]</span>"
       ],
       "metadata": {},
       "output_type": "display_data",
       "text": [
        "arr :: forall a. Num a => IO [IORef a]"
       ]
      },
      {
       "html": [
        "<span class='get-type'>prem :: IO ()</span>"
       ],
       "metadata": {},
       "output_type": "display_data",
       "text": [
        "prem :: IO ()"
       ]
      },
      {
       "metadata": {},
       "output_type": "display_data",
       "text": [
        "1\n",
        "2\n",
        "3\n",
        "4"
       ]
      }
     ],
     "prompt_number": 12
    },
    {
     "cell_type": "markdown",
     "metadata": {
      "hidden": false
     },
     "source": [
      "In our case, we can simplify the type signatures. For example, for `mapM` it would be (only with respect to IO):\n",
      "\n",
      "```haskell\n",
      "mapM :: (a -> IO b) -> [a] -> IO [b]\n",
      "```\n",
      "\n",
      "The two also have their variants, namely `forM` and `forM_`. The only difference being that their arguments are flipped - they take a list first and a an impure function second.\n",
      "\n",
      "Let us use what we have learned for a simple task - implementing Bubble Sort."
     ]
    },
    {
     "cell_type": "code",
     "collapsed": false,
     "input": [
      "import Control.Monad\n",
      "import Data.Vector hiding (forM_, length)\n",
      "import Data.Vector.Unboxed hiding (length, forM_)\n",
      "\n",
      "bubbleSort :: [Int] -> IO [Int]\n",
      "bubbleSort xs = do\n",
      "    let iMax = length xs - 1\n",
      "    arr <- newListArray (0, iMax) xs :: IO (IOArray Int Int)\n",
      "    \n",
      "    forM_ [0..iMax] $ \\ _ -> \n",
      "        forM_ [0..iMax - 1] $ \\ j -> do\n",
      "            \n",
      "            x <- readArray arr j\n",
      "            y <- readArray arr $ j + 1\n",
      "            \n",
      "            when (x > y) $ do\n",
      "                writeArray arr (j + 1) x\n",
      "                writeArray arr j y\n",
      "    \n",
      "    getElems arr\n",
      "                \n",
      "bubbleSort [3,5,-1,2,8,1,0,1] >>= print"
     ],
     "language": "python",
     "metadata": {},
     "outputs": [
      {
       "metadata": {},
       "output_type": "display_data",
       "text": [
        "[-1,0,1,1,2,3,5,8]"
       ]
      }
     ],
     "prompt_number": 14
    },
    {
     "cell_type": "markdown",
     "metadata": {
      "hidden": false
     },
     "source": [
      "Again, the functionality offered by the `IOArray` is quite limited. And again, Vector comes to the rescue, this time in the\n",
      "shape of **Data.Vector.Mutable**. Again, it offers quite a few functionalities and more than one instance. In particular, we are interested in the `IOVector` instance. Let us just see a few things we can do with it."
     ]
    },
    {
     "cell_type": "code",
     "collapsed": false,
     "input": [
      "import Data.Vector.Mutable\n",
      "import Prelude hiding (read)\n",
      "\n",
      "fvec :: IO ()\n",
      "fvec = do\n",
      "    v <- new 10\n",
      "    set v 3\n",
      "\n",
      "    write v 1 5\n",
      "    swap v 0 1\n",
      "    \n",
      "    a <- read v 0\n",
      "    b <- read v 1\n",
      "    \n",
      "    print a\n",
      "    print b\n",
      "    \n",
      "fvec"
     ],
     "language": "python",
     "metadata": {},
     "outputs": [
      {
       "metadata": {},
       "output_type": "display_data",
       "text": [
        "5\n",
        "3"
       ]
      }
     ],
     "prompt_number": 15
    },
    {
     "cell_type": "markdown",
     "metadata": {
      "hidden": false
     },
     "source": [
      "As can be seen, it's not actually *much* better in this case, like `Vector` is compared to `Array`. But it is slightly more intuitive. There are functionalities not mentioned here at all, but you can look it up.\n",
      "\n",
      "It can be seen that using arrays makes sense if you are already doing something wrapped in `IO` and want it to be efficient. However, look at the bubble sort implementation. We don't have a single line of `IO` in it, yet we had to wrap it into `IO` to use our mutable arrays. That means that any code that uses that also has to be wrapped in IO (let us ignore `unsafePerformIO`). This is a serious downside. We generally want to keep *most* of our code pure.\n",
      "\n",
      "However, there is a way out of that, as well.\n",
      "\n",
      "### ST Monad\n",
      "\n",
      "`ST` is another instance of a monad. However, this is not of particular interest to us at this point, we never even said what monads are, even if we have already encountered quite a few without knowing it. What *is* interesting, however, is what we can do with it. In particular, we can deal with state and arrays and then go back to pure code! We just have to use the \"magic\" `runST` function. Let us use it to implement a space-efficient Fibbonaci calculator (and show the basics of working with it)."
     ]
    },
    {
     "cell_type": "code",
     "collapsed": false,
     "input": [
      "import Control.Monad.ST\n",
      "import Data.STRef\n",
      "import Data.Vector hiding (map)\n",
      "import Data.Vector.Unboxed hiding (map)\n",
      "\n",
      "fib :: Int -> Int\n",
      "fib n\n",
      "    | n < 2     = n\n",
      "    | otherwise = runST $ do\n",
      "            x <- newSTRef 0\n",
      "            y <- newSTRef 1\n",
      "            fibST n x y\n",
      "        \n",
      "    where fibST 0 x _ = readSTRef x\n",
      "          fibST n x y = do\n",
      "              x' <- readSTRef x\n",
      "              y' <- readSTRef y\n",
      "              writeSTRef x y'\n",
      "              writeSTRef y $! x' + y'\n",
      "              fibST (n - 1) x y\n",
      "\n",
      "\n",
      "map fib [1..10]"
     ],
     "language": "python",
     "metadata": {},
     "outputs": [
      {
       "metadata": {},
       "output_type": "display_data",
       "text": [
        "[1,1,2,3,5,8,13,21,34,55]"
       ]
      }
     ],
     "prompt_number": 17
    },
    {
     "cell_type": "markdown",
     "metadata": {
      "hidden": false
     },
     "source": [
      "Let us not delve much deeper into the arcane secrets of `ST`, but just show that arrays can be used in the `ST` monad as well. We have the `STArray`, mentioned at the beginning, which is very similar to the `IOArray`. However, mutable Vectors can be used in `ST` as well, we just call them `STVector` instead of `IOVector`. Let us just implement re-implement our Bubble Sort using `ST` and `Vector`, which makes it possible to insert it in otherwise pure code."
     ]
    },
    {
     "cell_type": "code",
     "collapsed": false,
     "input": [
      "import Data.Vector hiding (length, forM_)\n",
      "import Data.Vector.Unboxed hiding (length, thaw, fromList, freeze, forM_, toList)\n",
      "import Data.Array.IO hiding (thaw, freeze)\n",
      "import Prelude hiding (length, read)\n",
      "\n",
      "bubbleSort' :: [Int] -> [Int]\n",
      "bubbleSort' xs = runST $ do\n",
      "    arr <- thaw . fromList $ xs\n",
      "    let iMax = length arr - 1\n",
      "    \n",
      "    forM_ [0..iMax] $ \\ _ ->\n",
      "        forM_ [0..iMax - 1] $ \\ j -> do\n",
      "            x <- read arr j\n",
      "            y <- read arr $ j + 1\n",
      "            \n",
      "            when (x > y) $ swap arr j $ j + 1\n",
      "                \n",
      "    fArr <- freeze arr\n",
      "    return . toList $ fArr\n",
      "    \n",
      "bubbleSort' [3, 5, -1, 7, 2, 9, 0, 1, 1]"
     ],
     "language": "python",
     "metadata": {},
     "outputs": [
      {
       "metadata": {},
       "output_type": "display_data",
       "text": [
        "[-1,0,1,1,2,3,5,7,9]"
       ]
      }
     ],
     "prompt_number": 21
    }
   ],
   "metadata": {}
  }
 ]
}